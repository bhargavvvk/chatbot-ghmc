{
 "cells": [
  {
   "cell_type": "code",
   "execution_count": null,
   "id": "91a6a6dc-3e20-4d94-87ba-87ba25a3a56f",
   "metadata": {},
   "outputs": [],
   "source": []
  }
 ],
 "metadata": {
  "kernelspec": {
   "display_name": "",
   "name": ""
  },
  "language_info": {
   "name": ""
  }
 },
 "nbformat": 4,
 "nbformat_minor": 5
}
